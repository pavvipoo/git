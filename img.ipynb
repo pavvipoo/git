{
  "nbformat": 4,
  "nbformat_minor": 0,
  "metadata": {
    "colab": {
      "provenance": [],
      "authorship_tag": "ABX9TyNqGg23RkpdJFzbeZOOyNST",
      "include_colab_link": true
    },
    "kernelspec": {
      "name": "python3",
      "display_name": "Python 3"
    },
    "language_info": {
      "name": "python"
    }
  },
  "cells": [
    {
      "cell_type": "markdown",
      "metadata": {
        "id": "view-in-github",
        "colab_type": "text"
      },
      "source": [
        "<a href=\"https://colab.research.google.com/github/pavvipoo/git/blob/main/img.ipynb\" target=\"_parent\"><img src=\"https://colab.research.google.com/assets/colab-badge.svg\" alt=\"Open In Colab\"/></a>"
      ]
    },
    {
      "cell_type": "code",
      "execution_count": null,
      "metadata": {
        "colab": {
          "base_uri": "https://localhost:8080/"
        },
        "id": "RUZuTwH8i0hS",
        "outputId": "ec6d0e8e-99ac-4c7a-d03a-8a3be59f9933"
      },
      "outputs": [
        {
          "output_type": "stream",
          "name": "stdout",
          "text": [
            "Warning: Looks like you're using an outdated `kagglehub` version (installed: 0.3.7), please consider upgrading to the latest version (0.3.8).\n",
            "Downloading from https://www.kaggle.com/api/v1/datasets/download/abdelghaniaaba/wildfire-prediction-dataset?dataset_version_number=1...\n"
          ]
        },
        {
          "output_type": "stream",
          "name": "stderr",
          "text": [
            "100%|██████████| 1.45G/1.45G [00:14<00:00, 104MB/s]"
          ]
        },
        {
          "output_type": "stream",
          "name": "stdout",
          "text": [
            "Extracting files...\n"
          ]
        },
        {
          "output_type": "stream",
          "name": "stderr",
          "text": [
            "\n"
          ]
        },
        {
          "output_type": "stream",
          "name": "stdout",
          "text": [
            "Path to dataset files: /root/.cache/kagglehub/datasets/abdelghaniaaba/wildfire-prediction-dataset/versions/1\n"
          ]
        }
      ],
      "source": [
        "import kagglehub\n",
        "\n",
        "# Download latest version\n",
        "path = kagglehub.dataset_download(\"abdelghaniaaba/wildfire-prediction-dataset\")\n",
        "\n",
        "print(\"Path to dataset files:\", path)"
      ]
    },
    {
      "cell_type": "code",
      "source": [],
      "metadata": {
        "id": "O4pT2sRBY7Oc"
      },
      "execution_count": null,
      "outputs": []
    },
    {
      "cell_type": "code",
      "source": [],
      "metadata": {
        "id": "7XdSYg5MY8aR"
      },
      "execution_count": null,
      "outputs": []
    },
    {
      "cell_type": "code",
      "source": [
        "import tensorflow as tf\n",
        "from tensorflow.keras.preprocessing.image import ImageDataGenerator\n",
        "from tensorflow.keras.models import Sequential\n",
        "from tensorflow.keras.layers import Conv2D,MaxPooling2D,Flatten,Dense,Dropout\n",
        "from PIL import Image,ImageTk\n",
        "import numpy as np"
      ],
      "metadata": {
        "id": "hy8-oSMVjPCz"
      },
      "execution_count": null,
      "outputs": []
    },
    {
      "cell_type": "code",
      "source": [
        "from PIL import ImageFile\n",
        "ImageFile.LOAD_TRUNCATED_IMAGES=True"
      ],
      "metadata": {
        "id": "3uU85zsqjVtq"
      },
      "execution_count": null,
      "outputs": []
    },
    {
      "cell_type": "code",
      "source": [
        "train_dir=\"/root/.cache/kagglehub/datasets/abdelghaniaaba/wildfire-prediction-dataset/versions/1/train\"\n",
        "valid_dir=\"/root/.cache/kagglehub/datasets/abdelghaniaaba/wildfire-prediction-dataset/versions/1/valid\"\n",
        "test_dir=\"/root/.cache/kagglehub/datasets/abdelghaniaaba/wildfire-prediction-dataset/versions/1/test\"\n",
        "\n",
        "train_datagen= ImageDataGenerator(rescale=1./255)\n",
        "valid_datagen= ImageDataGenerator(rescale=1./255)\n",
        "test_datagen= ImageDataGenerator(rescale=1./255)\n",
        "\n",
        "train_generator= train_datagen.flow_from_directory(train_dir, target_size=(64,64), batch_size=32, class_mode='binary')\n",
        "valid_generator= train_datagen.flow_from_directory(train_dir, target_size=(64,64), batch_size=32, class_mode='binary')\n",
        "test_generator= train_datagen.flow_from_directory(train_dir, target_size=(64,64), batch_size=32, class_mode='binary')\n"
      ],
      "metadata": {
        "colab": {
          "base_uri": "https://localhost:8080/"
        },
        "id": "5Wb0ed08jc9i",
        "outputId": "b1b3915a-a253-44f3-aa7d-2ec6acb39afa"
      },
      "execution_count": null,
      "outputs": [
        {
          "output_type": "stream",
          "name": "stdout",
          "text": [
            "Found 30250 images belonging to 2 classes.\n",
            "Found 30250 images belonging to 2 classes.\n",
            "Found 30250 images belonging to 2 classes.\n"
          ]
        }
      ]
    },
    {
      "cell_type": "code",
      "source": [
        "model=Sequential([\n",
        "   Conv2D(32,(3,3),activation='relu',input_shape=(64,64,3)),\n",
        "   MaxPooling2D(pool_size=(2,2)),\n",
        "   Conv2D(64,(3,3),activation='relu'),\n",
        "   MaxPooling2D(pool_size=(2,2)),\n",
        "   Dense(128,activation='relu'),\n",
        "   Dropout(0.5),\n",
        "   Flatten(),\n",
        "   Dense(1,activation='sigmoid')\n",
        "])\n",
        "model.compile(optimizer='adam',loss='binary_crossentropy',metrics=['accuracy'])"
      ],
      "metadata": {
        "id": "E-jilnE9ld5a"
      },
      "execution_count": null,
      "outputs": []
    },
    {
      "cell_type": "code",
      "source": [
        "history=model.fit(train_generator,validation_data=valid_generator,epochs=10,verbose=1)"
      ],
      "metadata": {
        "colab": {
          "base_uri": "https://localhost:8080/"
        },
        "id": "eKD-izrdl_n5",
        "outputId": "037f95a4-2ea2-49bc-c4d6-a4cdf29c0a65"
      },
      "execution_count": null,
      "outputs": [
        {
          "output_type": "stream",
          "name": "stdout",
          "text": [
            "Epoch 1/10\n",
            "\u001b[1m946/946\u001b[0m \u001b[32m━━━━━━━━━━━━━━━━━━━━\u001b[0m\u001b[37m\u001b[0m \u001b[1m81s\u001b[0m 86ms/step - accuracy: 0.9502 - loss: 0.1318 - val_accuracy: 0.9509 - val_loss: 0.1398\n",
            "Epoch 2/10\n",
            "\u001b[1m946/946\u001b[0m \u001b[32m━━━━━━━━━━━━━━━━━━━━\u001b[0m\u001b[37m\u001b[0m \u001b[1m126s\u001b[0m 133ms/step - accuracy: 0.9501 - loss: 0.1332 - val_accuracy: 0.9480 - val_loss: 0.1383\n",
            "Epoch 3/10\n",
            "\u001b[1m946/946\u001b[0m \u001b[32m━━━━━━━━━━━━━━━━━━━━\u001b[0m\u001b[37m\u001b[0m \u001b[1m83s\u001b[0m 88ms/step - accuracy: 0.9565 - loss: 0.1154 - val_accuracy: 0.9624 - val_loss: 0.1002\n",
            "Epoch 4/10\n",
            "\u001b[1m946/946\u001b[0m \u001b[32m━━━━━━━━━━━━━━━━━━━━\u001b[0m\u001b[37m\u001b[0m \u001b[1m82s\u001b[0m 87ms/step - accuracy: 0.9588 - loss: 0.1132 - val_accuracy: 0.9660 - val_loss: 0.0954\n",
            "Epoch 5/10\n",
            "\u001b[1m946/946\u001b[0m \u001b[32m━━━━━━━━━━━━━━━━━━━━\u001b[0m\u001b[37m\u001b[0m \u001b[1m83s\u001b[0m 88ms/step - accuracy: 0.9590 - loss: 0.1128 - val_accuracy: 0.9657 - val_loss: 0.0981\n",
            "Epoch 6/10\n",
            "\u001b[1m946/946\u001b[0m \u001b[32m━━━━━━━━━━━━━━━━━━━━\u001b[0m\u001b[37m\u001b[0m \u001b[1m82s\u001b[0m 87ms/step - accuracy: 0.9632 - loss: 0.1015 - val_accuracy: 0.9701 - val_loss: 0.0824\n",
            "Epoch 7/10\n",
            "\u001b[1m946/946\u001b[0m \u001b[32m━━━━━━━━━━━━━━━━━━━━\u001b[0m\u001b[37m\u001b[0m \u001b[1m78s\u001b[0m 83ms/step - accuracy: 0.9632 - loss: 0.0995 - val_accuracy: 0.9742 - val_loss: 0.0715\n",
            "Epoch 8/10\n",
            "\u001b[1m946/946\u001b[0m \u001b[32m━━━━━━━━━━━━━━━━━━━━\u001b[0m\u001b[37m\u001b[0m \u001b[1m83s\u001b[0m 88ms/step - accuracy: 0.9674 - loss: 0.0867 - val_accuracy: 0.9772 - val_loss: 0.0658\n",
            "Epoch 9/10\n",
            "\u001b[1m946/946\u001b[0m \u001b[32m━━━━━━━━━━━━━━━━━━━━\u001b[0m\u001b[37m\u001b[0m \u001b[1m79s\u001b[0m 84ms/step - accuracy: 0.9677 - loss: 0.0852 - val_accuracy: 0.9776 - val_loss: 0.0643\n",
            "Epoch 10/10\n",
            "\u001b[1m946/946\u001b[0m \u001b[32m━━━━━━━━━━━━━━━━━━━━\u001b[0m\u001b[37m\u001b[0m \u001b[1m81s\u001b[0m 86ms/step - accuracy: 0.9687 - loss: 0.0852 - val_accuracy: 0.9655 - val_loss: 0.0935\n"
          ]
        }
      ]
    },
    {
      "cell_type": "code",
      "source": [
        "def predict_image(file_path):\n",
        "    \"\"\"Predicts the class of an image and returns the result.\n",
        "\n",
        "    Args:\n",
        "        file_path (str): The path to the image file.\n",
        "\n",
        "    Returns:\n",
        "        str: The prediction result (\"Wildfire\" or \"No Wildfire\").\n",
        "    \"\"\"\n",
        "    #Corrected indentation for the following lines\n",
        "    img_for_model = Image.open(file_path).resize((64, 64))\n",
        "\n",
        "    img_array = np.array(img_for_model) / 255.0 # Rescale like during training\n",
        "\n",
        "    img_array = np.expand_dims(img_array, axis=0) # Added '=' and corrected to axis=0\n",
        "\n",
        "\n",
        "    prediction = model.predict(img_array)[0][0] # Added '='\n",
        "\n",
        "    result = \"Wildfire\" if prediction > 0.5 else \"No Wildfire\"\n",
        "    return result\n",
        "\n",
        "\n",
        "image_path = \"/content/WhatsApp Image 2025-02-18 at 4.26.37 PM (1).jpeg\"\n",
        "prediction = predict_image(image_path)\n",
        "print(f\"Prediction for: {image_path}:{prediction}\") # Corrected to prediction variable\n",
        "\n",
        "\n",
        "image_path = \"/content/WhatsApp Image 2025-02-18 at 4.26.37 PM (1).jpeg\"\n",
        "prediction = predict_image(image_path)\n",
        "print(f\"Prediction for: {image_path}:{prediction}\") # Changed Prediction_result to prediction"
      ],
      "metadata": {
        "colab": {
          "base_uri": "https://localhost:8080/"
        },
        "id": "Ht8UR1XTuEP6",
        "outputId": "de61aed0-e96f-4e87-9d15-204e69cc7ca2"
      },
      "execution_count": null,
      "outputs": [
        {
          "output_type": "stream",
          "name": "stdout",
          "text": [
            "\u001b[1m1/1\u001b[0m \u001b[32m━━━━━━━━━━━━━━━━━━━━\u001b[0m\u001b[37m\u001b[0m \u001b[1m0s\u001b[0m 47ms/step\n",
            "Prediction for: /content/WhatsApp Image 2025-02-18 at 4.26.37 PM (1).jpeg:Wildfire\n",
            "\u001b[1m1/1\u001b[0m \u001b[32m━━━━━━━━━━━━━━━━━━━━\u001b[0m\u001b[37m\u001b[0m \u001b[1m0s\u001b[0m 57ms/step\n",
            "Prediction for: /content/WhatsApp Image 2025-02-18 at 4.26.37 PM (1).jpeg:Wildfire\n"
          ]
        }
      ]
    }
  ]
}